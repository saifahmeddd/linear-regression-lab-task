{
 "cells": [
  {
   "cell_type": "markdown",
   "id": "48d85138-defb-4adf-b9a4-a044c4dd8838",
   "metadata": {},
   "source": [
    "# Linear Regression with One Variable"
   ]
  },
  {
   "cell_type": "markdown",
   "id": "b90bb532-cb0f-4e91-965a-a2ee61bb3e2a",
   "metadata": {},
   "source": [
    "Suppose you are the CEO of a restaurant franchise and are considering different cities for opening a new outlet. The chain already has trucks in various cities and you have data for profits and populations from the cities. The file **ex1data1.txt** (available under week 2's assignment material) contains the dataset for our linear regression exercise. The first column is the population of a city and the second column is the profit of a food truck in that city. A negative value for profit indicates a loss."
   ]
  },
  {
   "cell_type": "code",
   "execution_count": 8,
   "id": "471f7c8f-767c-4e3f-a9a1-6cf9e1e5d98b",
   "metadata": {},
   "outputs": [],
   "source": [
    "# !pip install matplotlib"
   ]
  },
  {
   "cell_type": "code",
   "execution_count": 2,
   "id": "e9cd5e63-e378-4afd-9272-b57e03b98551",
   "metadata": {},
   "outputs": [],
   "source": [
    "import numpy as np # linear algebra\n",
    "import pandas as pd # data processing, CSV file I/O (e.g. pd.read_csv)\n",
    "import matplotlib.pyplot as plt\n"
   ]
  },
  {
   "cell_type": "code",
   "execution_count": 3,
   "id": "3334e1dc-0a16-4fc9-8165-9c0191c7d632",
   "metadata": {},
   "outputs": [
    {
     "data": {
      "text/html": [
       "<div>\n",
       "<style scoped>\n",
       "    .dataframe tbody tr th:only-of-type {\n",
       "        vertical-align: middle;\n",
       "    }\n",
       "\n",
       "    .dataframe tbody tr th {\n",
       "        vertical-align: top;\n",
       "    }\n",
       "\n",
       "    .dataframe thead th {\n",
       "        text-align: right;\n",
       "    }\n",
       "</style>\n",
       "<table border=\"1\" class=\"dataframe\">\n",
       "  <thead>\n",
       "    <tr style=\"text-align: right;\">\n",
       "      <th></th>\n",
       "      <th>0</th>\n",
       "      <th>1</th>\n",
       "    </tr>\n",
       "  </thead>\n",
       "  <tbody>\n",
       "    <tr>\n",
       "      <th>0</th>\n",
       "      <td>6.1101</td>\n",
       "      <td>17.5920</td>\n",
       "    </tr>\n",
       "    <tr>\n",
       "      <th>1</th>\n",
       "      <td>5.5277</td>\n",
       "      <td>9.1302</td>\n",
       "    </tr>\n",
       "    <tr>\n",
       "      <th>2</th>\n",
       "      <td>8.5186</td>\n",
       "      <td>13.6620</td>\n",
       "    </tr>\n",
       "    <tr>\n",
       "      <th>3</th>\n",
       "      <td>7.0032</td>\n",
       "      <td>11.8540</td>\n",
       "    </tr>\n",
       "    <tr>\n",
       "      <th>4</th>\n",
       "      <td>5.8598</td>\n",
       "      <td>6.8233</td>\n",
       "    </tr>\n",
       "  </tbody>\n",
       "</table>\n",
       "</div>"
      ],
      "text/plain": [
       "        0        1\n",
       "0  6.1101  17.5920\n",
       "1  5.5277   9.1302\n",
       "2  8.5186  13.6620\n",
       "3  7.0032  11.8540\n",
       "4  5.8598   6.8233"
      ]
     },
     "execution_count": 3,
     "metadata": {},
     "output_type": "execute_result"
    }
   ],
   "source": [
    "data = pd.read_csv('ex1data1.txt', header = None) #read from dataset\n",
    "X = data.iloc[:,0] # read first column\n",
    "y = data.iloc[:,1] # read second column\n",
    "m = len(y) # number of training example\n",
    "data.head() # view first few rows of the data"
   ]
  },
  {
   "cell_type": "markdown",
   "id": "3c1340fc-fa17-4242-bf41-52ee8e589b51",
   "metadata": {},
   "source": [
    "### Plot Dataset using scatter to visualize the pattern in it"
   ]
  },
  {
   "cell_type": "code",
   "execution_count": 4,
   "id": "9628b59c-8bee-45fb-8f67-b9cc4fba1e69",
   "metadata": {},
   "outputs": [
    {
     "data": {
      "image/png": "[encoded data removed]",
      "text/plain": [
       "<Figure size 640x480 with 1 Axes>"
      ]
     },
     "metadata": {},
     "output_type": "display_data"
    }
   ],
   "source": [
    "# Plot Data\n",
    "plt.scatter(X, y)\n",
    "plt.xlabel('Population of City in 10,000s')\n",
    "plt.ylabel('Profit in $10,000s')\n",
    "plt.show()"
   ]
  },
  {
   "cell_type": "markdown",
   "id": "0c2db7f4-f4fb-40cf-98b0-a14311aed1cf",
   "metadata": {},
   "source": [
    "### Add Intercept and Parameters initilization\n",
    "\n",
    "we add another dimension to our data to accommodate the intercept term (the reason for doing this is explained in the videos). We also initialize the initial parameters theta to 0 and the learning rate alpha to 0.01."
   ]
  },
  {
   "cell_type": "code",
   "execution_count": 5,
   "id": "4f66845d-a259-4183-9090-7705e90dc1d1",
   "metadata": {},
   "outputs": [],
   "source": [
    "#### DONT CHANGE THIS CODE ####\n",
    "X = np.array(X)\n",
    "y = np.array(y)\n",
    "X = X[:,np.newaxis]\n",
    "y = y[:,np.newaxis]\n",
    "# Hyperparameters\n",
    "iterations = 1500\n",
    "alpha = 0.01"
   ]
  },
  {
   "cell_type": "code",
   "execution_count": 6,
   "id": "1661bcaa-ff0b-41ac-861b-8dc5c8db173b",
   "metadata": {},
   "outputs": [],
   "source": [
    "## Write the code ##\n",
    "# Initlize Parameters () to ZERO\n",
    "theta=np.zeros((2,1))\n",
    "\n",
    "# Initilize one to be multiplied with intercept\n",
    "ones=np.ones((m,1))\n",
    "\n",
    "# Stack ones withe actual data set as it will look like following output.\n",
    "X=np.hstack((ones,X))\n"
   ]
  },
  {
   "cell_type": "code",
   "execution_count": 7,
   "id": "661dab7a-d05a-4103-9e7b-6adad0ecf91d",
   "metadata": {},
   "outputs": [
    {
     "data": {
      "text/plain": [
       "array([[ 1.    ,  6.1101],\n",
       "       [ 1.    ,  5.5277],\n",
       "       [ 1.    ,  8.5186],\n",
       "       [ 1.    ,  7.0032],\n",
       "       [ 1.    ,  5.8598],\n",
       "       [ 1.    ,  8.3829],\n",
       "       [ 1.    ,  7.4764],\n",
       "       [ 1.    ,  8.5781],\n",
       "       [ 1.    ,  6.4862],\n",
       "       [ 1.    ,  5.0546],\n",
       "       [ 1.    ,  5.7107],\n",
       "       [ 1.    , 14.164 ],\n",
       "       [ 1.    ,  5.734 ],\n",
       "       [ 1.    ,  8.4084],\n",
       "       [ 1.    ,  5.6407],\n",
       "       [ 1.    ,  5.3794],\n",
       "       [ 1.    ,  6.3654],\n",
       "       [ 1.    ,  5.1301],\n",
       "       [ 1.    ,  6.4296],\n",
       "       [ 1.    ,  7.0708],\n",
       "       [ 1.    ,  6.1891],\n",
       "       [ 1.    , 20.27  ],\n",
       "       [ 1.    ,  5.4901],\n",
       "       [ 1.    ,  6.3261],\n",
       "       [ 1.    ,  5.5649],\n",
       "       [ 1.    , 18.945 ],\n",
       "       [ 1.    , 12.828 ],\n",
       "       [ 1.    , 10.957 ],\n",
       "       [ 1.    , 13.176 ],\n",
       "       [ 1.    , 22.203 ],\n",
       "       [ 1.    ,  5.2524],\n",
       "       [ 1.    ,  6.5894],\n",
       "       [ 1.    ,  9.2482],\n",
       "       [ 1.    ,  5.8918],\n",
       "       [ 1.    ,  8.2111],\n",
       "       [ 1.    ,  7.9334],\n",
       "       [ 1.    ,  8.0959],\n",
       "       [ 1.    ,  5.6063],\n",
       "       [ 1.    , 12.836 ],\n",
       "       [ 1.    ,  6.3534],\n",
       "       [ 1.    ,  5.4069],\n",
       "       [ 1.    ,  6.8825],\n",
       "       [ 1.    , 11.708 ],\n",
       "       [ 1.    ,  5.7737],\n",
       "       [ 1.    ,  7.8247],\n",
       "       [ 1.    ,  7.0931],\n",
       "       [ 1.    ,  5.0702],\n",
       "       [ 1.    ,  5.8014],\n",
       "       [ 1.    , 11.7   ],\n",
       "       [ 1.    ,  5.5416],\n",
       "       [ 1.    ,  7.5402],\n",
       "       [ 1.    ,  5.3077],\n",
       "       [ 1.    ,  7.4239],\n",
       "       [ 1.    ,  7.6031],\n",
       "       [ 1.    ,  6.3328],\n",
       "       [ 1.    ,  6.3589],\n",
       "       [ 1.    ,  6.2742],\n",
       "       [ 1.    ,  5.6397],\n",
       "       [ 1.    ,  9.3102],\n",
       "       [ 1.    ,  9.4536],\n",
       "       [ 1.    ,  8.8254],\n",
       "       [ 1.    ,  5.1793],\n",
       "       [ 1.    , 21.279 ],\n",
       "       [ 1.    , 14.908 ],\n",
       "       [ 1.    , 18.959 ],\n",
       "       [ 1.    ,  7.2182],\n",
       "       [ 1.    ,  8.2951],\n",
       "       [ 1.    , 10.236 ],\n",
       "       [ 1.    ,  5.4994],\n",
       "       [ 1.    , 20.341 ],\n",
       "       [ 1.    , 10.136 ],\n",
       "       [ 1.    ,  7.3345],\n",
       "       [ 1.    ,  6.0062],\n",
       "       [ 1.    ,  7.2259],\n",
       "       [ 1.    ,  5.0269],\n",
       "       [ 1.    ,  6.5479],\n",
       "       [ 1.    ,  7.5386],\n",
       "       [ 1.    ,  5.0365],\n",
       "       [ 1.    , 10.274 ],\n",
       "       [ 1.    ,  5.1077],\n",
       "       [ 1.    ,  5.7292],\n",
       "       [ 1.    ,  5.1884],\n",
       "       [ 1.    ,  6.3557],\n",
       "       [ 1.    ,  9.7687],\n",
       "       [ 1.    ,  6.5159],\n",
       "       [ 1.    ,  8.5172],\n",
       "       [ 1.    ,  9.1802],\n",
       "       [ 1.    ,  6.002 ],\n",
       "       [ 1.    ,  5.5204],\n",
       "       [ 1.    ,  5.0594],\n",
       "       [ 1.    ,  5.7077],\n",
       "       [ 1.    ,  7.6366],\n",
       "       [ 1.    ,  5.8707],\n",
       "       [ 1.    ,  5.3054],\n",
       "       [ 1.    ,  8.2934],\n",
       "       [ 1.    , 13.394 ],\n",
       "       [ 1.    ,  5.4369]])"
      ]
     },
     "execution_count": 7,
     "metadata": {},
     "output_type": "execute_result"
    }
   ],
   "source": [
    "X"
   ]
  },
  {
   "cell_type": "code",
   "execution_count": 8,
   "id": "1720d863-c2c4-4a6a-9355-67532633b83f",
   "metadata": {},
   "outputs": [
    {
     "data": {
      "text/plain": [
       "array([[0.],\n",
       "       [0.]])"
      ]
     },
     "execution_count": 8,
     "metadata": {},
     "output_type": "execute_result"
    }
   ],
   "source": [
    "theta # Intialized Theta should be ZERO."
   ]
  },
  {
   "cell_type": "markdown",
   "id": "79286026-0881-45c6-b555-cc3e7b76b712",
   "metadata": {},
   "source": [
    "### COST FUNCTION ####\n",
    "Implement the MSE cost function for above mentioned dataset. The formula is as followed.\n",
    "![Mean_Squared_Error](res/MSE.png \"MSE\")\n"
   ]
  },
  {
   "cell_type": "code",
   "execution_count": 9,
   "id": "2d787739-2d2b-4dcb-ad18-e0db76e8fe9f",
   "metadata": {},
   "outputs": [],
   "source": [
    "### WRITE CODE HERE ###\n",
    "# NOTE:- You may use vectorized implemention of cost function using numpy library.\n",
    "# Hint:- np.dot function will help you to implement vectorized dot product of theta and input features.\n",
    "def computeCost(X, y, theta):\n",
    "    temp = np.dot(X,theta)-y\n",
    "    temp = np.dot(temp.T,temp)\n",
    "    temp = temp/(2*m)\n",
    "    return temp\n",
    "    \n",
    "\n",
    "    \n",
    "\n"
   ]
  },
  {
   "cell_type": "code",
   "execution_count": 10,
   "id": "39fcef14-4d76-402e-a377-d6a72df53a10",
   "metadata": {},
   "outputs": [
    {
     "name": "stdout",
     "output_type": "stream",
     "text": [
      "[[32.07273388]]\n"
     ]
    }
   ],
   "source": [
    "# Initial Cost\n",
    "J = computeCost(X, y, theta)\n",
    "print(J)"
   ]
  },
  {
   "cell_type": "markdown",
   "id": "a9f35e08-dc82-4c9d-997b-29735f9ada70",
   "metadata": {},
   "source": [
    "### Finding the optimal parameters using Gradient Descent¶\n",
    "The Paritial Derivative of the Cost function is: \n",
    "![derivatives](res/derivatives.png \"MSE\")"
   ]
  },
  {
   "cell_type": "code",
   "execution_count": 11,
   "id": "ce71968f-df87-4800-ae3f-638e45556edb",
   "metadata": {},
   "outputs": [
    {
     "name": "stdout",
     "output_type": "stream",
     "text": [
      "[[-3.63029144]\n",
      " [ 1.16636235]]\n"
     ]
    }
   ],
   "source": [
    "### WRITE CODE HERE ###\n",
    "# NOTE:- According to passed parameters .\n",
    "# Hint:- Don't Directly update the actual theta but use temp variable during update.\n",
    "def gradientDescent(X, y, theta, alpha, iterations):\n",
    "    for _ in range(iterations):\n",
    "        temp = np.dot(X,theta)-y\n",
    "        temp = np.dot(X.T,temp)\n",
    "        theta = theta - (alpha/m)*temp\n",
    "        \n",
    "    return theta\n",
    "\n",
    "theta = gradientDescent(X, y, theta, alpha, iterations)\n",
    "print(theta)"
   ]
  },
  {
   "cell_type": "markdown",
   "id": "642ab9ab-8f7b-4a99-bba2-cfb78de4ffd9",
   "metadata": {},
   "source": [
    "Expected theta values [-3.6303, 1.1664]\n",
    "\n"
   ]
  },
  {
   "cell_type": "code",
   "execution_count": 12,
   "id": "3c51d735-8f2b-4f58-a2b5-762a0f2b78d4",
   "metadata": {},
   "outputs": [
    {
     "name": "stdout",
     "output_type": "stream",
     "text": [
      "[[4.48338826]]\n"
     ]
    }
   ],
   "source": [
    "# Calculate the Cost after converging of thetas for number of iterations.\n",
    "J = computeCost(X, y, theta)\n",
    "print(J)"
   ]
  },
  {
   "cell_type": "markdown",
   "id": "6d55cdcb-9ced-47c5-83d6-fff727f2676b",
   "metadata": {},
   "source": [
    "### Plot showing the best fit line¶\n"
   ]
  },
  {
   "cell_type": "code",
   "execution_count": 13,
   "id": "83aaea0e-2888-4c91-a1ff-3864e021e9c7",
   "metadata": {},
   "outputs": [
    {
     "data": {
      "image/png": "[encoded data removed]",
      "text/plain": [
       "<Figure size 640x480 with 1 Axes>"
      ]
     },
     "metadata": {},
     "output_type": "display_data"
    }
   ],
   "source": [
    "## Expected Output plot....##\n",
    "plt.scatter(X[:,1], y)\n",
    "plt.xlabel('Population of City in 10,000s')\n",
    "plt.ylabel('Profit in $10,000s')\n",
    "plt.plot(X[:,1], np.dot(X, theta))\n",
    "plt.savefig('graph.png')\n",
    "plt.show()"
   ]
  },
  {
   "cell_type": "markdown",
   "id": "ad12c1ed-290d-4a14-86ee-475cd3e4829f",
   "metadata": {},
   "source": []
  },
  {
   "cell_type": "markdown",
   "id": "bf6680f4-259f-4f5b-95b8-b4d246da7612",
   "metadata": {},
   "source": [
    "## Linear Regression with Multiple Predictors (Variable)"
   ]
  },
  {
   "cell_type": "markdown",
   "id": "dcca4b24-0d5b-4997-841f-6cd90bb1eec6",
   "metadata": {},
   "source": [
    "**Problem context:** Suppose you are selling your house and you want to know what a good market price would be. One way to do this is to first collect information on recent houses sold and make a model of housing prices. Your job is to predict housing prices based on other variables.\n",
    "\n",
    "\n",
    "The first column is the **size of the house (in square feet)**, the second column is the **number of bedrooms**, and the third column is the **price** of the house."
   ]
  },
  {
   "cell_type": "code",
   "execution_count": 14,
   "id": "ba34aa9c-8fa1-499f-ba34-c823a613238a",
   "metadata": {},
   "outputs": [
    {
     "data": {
      "text/html": [
       "<div>\n",
       "<style scoped>\n",
       "    .dataframe tbody tr th:only-of-type {\n",
       "        vertical-align: middle;\n",
       "    }\n",
       "\n",
       "    .dataframe tbody tr th {\n",
       "        vertical-align: top;\n",
       "    }\n",
       "\n",
       "    .dataframe thead th {\n",
       "        text-align: right;\n",
       "    }\n",
       "</style>\n",
       "<table border=\"1\" class=\"dataframe\">\n",
       "  <thead>\n",
       "    <tr style=\"text-align: right;\">\n",
       "      <th></th>\n",
       "      <th>0</th>\n",
       "      <th>1</th>\n",
       "      <th>2</th>\n",
       "    </tr>\n",
       "  </thead>\n",
       "  <tbody>\n",
       "    <tr>\n",
       "      <th>0</th>\n",
       "      <td>2104</td>\n",
       "      <td>3</td>\n",
       "      <td>399900</td>\n",
       "    </tr>\n",
       "    <tr>\n",
       "      <th>1</th>\n",
       "      <td>1600</td>\n",
       "      <td>3</td>\n",
       "      <td>329900</td>\n",
       "    </tr>\n",
       "    <tr>\n",
       "      <th>2</th>\n",
       "      <td>2400</td>\n",
       "      <td>3</td>\n",
       "      <td>369000</td>\n",
       "    </tr>\n",
       "    <tr>\n",
       "      <th>3</th>\n",
       "      <td>1416</td>\n",
       "      <td>2</td>\n",
       "      <td>232000</td>\n",
       "    </tr>\n",
       "    <tr>\n",
       "      <th>4</th>\n",
       "      <td>3000</td>\n",
       "      <td>4</td>\n",
       "      <td>539900</td>\n",
       "    </tr>\n",
       "  </tbody>\n",
       "</table>\n",
       "</div>"
      ],
      "text/plain": [
       "      0  1       2\n",
       "0  2104  3  399900\n",
       "1  1600  3  329900\n",
       "2  2400  3  369000\n",
       "3  1416  2  232000\n",
       "4  3000  4  539900"
      ]
     },
     "execution_count": 14,
     "metadata": {},
     "output_type": "execute_result"
    }
   ],
   "source": [
    "import numpy as np\n",
    "import pandas as pd\n",
    "data = pd.read_csv('ex1data2.txt', sep = ',', header = None)\n",
    "X = data.iloc[:,0:2] # read first two columns into X\n",
    "y = data.iloc[:,2] # read the third column into y\n",
    "m = len(y) # no. of training samples\n",
    "data.head()"
   ]
  },
  {
   "cell_type": "code",
   "execution_count": 15,
   "id": "6b2a7387-2ebb-49c7-87c7-42c7a18687c9",
   "metadata": {},
   "outputs": [
    {
     "data": {
      "text/html": [
       "<div>\n",
       "<style scoped>\n",
       "    .dataframe tbody tr th:only-of-type {\n",
       "        vertical-align: middle;\n",
       "    }\n",
       "\n",
       "    .dataframe tbody tr th {\n",
       "        vertical-align: top;\n",
       "    }\n",
       "\n",
       "    .dataframe thead th {\n",
       "        text-align: right;\n",
       "    }\n",
       "</style>\n",
       "<table border=\"1\" class=\"dataframe\">\n",
       "  <thead>\n",
       "    <tr style=\"text-align: right;\">\n",
       "      <th></th>\n",
       "      <th>0</th>\n",
       "      <th>1</th>\n",
       "    </tr>\n",
       "  </thead>\n",
       "  <tbody>\n",
       "    <tr>\n",
       "      <th>0</th>\n",
       "      <td>2104</td>\n",
       "      <td>3</td>\n",
       "    </tr>\n",
       "    <tr>\n",
       "      <th>1</th>\n",
       "      <td>1600</td>\n",
       "      <td>3</td>\n",
       "    </tr>\n",
       "    <tr>\n",
       "      <th>2</th>\n",
       "      <td>2400</td>\n",
       "      <td>3</td>\n",
       "    </tr>\n",
       "    <tr>\n",
       "      <th>3</th>\n",
       "      <td>1416</td>\n",
       "      <td>2</td>\n",
       "    </tr>\n",
       "    <tr>\n",
       "      <th>4</th>\n",
       "      <td>3000</td>\n",
       "      <td>4</td>\n",
       "    </tr>\n",
       "  </tbody>\n",
       "</table>\n",
       "</div>"
      ],
      "text/plain": [
       "      0  1\n",
       "0  2104  3\n",
       "1  1600  3\n",
       "2  2400  3\n",
       "3  1416  2\n",
       "4  3000  4"
      ]
     },
     "execution_count": 15,
     "metadata": {},
     "output_type": "execute_result"
    }
   ],
   "source": [
    "X.head(5)"
   ]
  },
  {
   "cell_type": "code",
   "execution_count": 16,
   "id": "875c9ed3-47ce-4ce7-a821-1b0ef5bf5b10",
   "metadata": {},
   "outputs": [
    {
     "data": {
      "text/plain": [
       "0    399900\n",
       "1    329900\n",
       "2    369000\n",
       "3    232000\n",
       "4    539900\n",
       "Name: 2, dtype: int64"
      ]
     },
     "execution_count": 16,
     "metadata": {},
     "output_type": "execute_result"
    }
   ],
   "source": [
    "y.head(5)"
   ]
  },
  {
   "cell_type": "markdown",
   "id": "4ef546ad-21fd-4dd4-abb8-b4cbde8a0385",
   "metadata": {},
   "source": [
    "As can be seen above we are dealing with more than one independent variables here (but the concepts you have learnt in the previous section applies here as well)"
   ]
  },
  {
   "cell_type": "markdown",
   "id": "ef7f2c7d-18b6-439c-886a-2fab8cac177b",
   "metadata": {},
   "source": [
    "## Feature Scaling and Normalization\n",
    "\n",
    "By looking at the values, note that house sizes are about 1000 times the number of bedrooms. When features differ by orders of magnitude, first performing feature scaling can make gradient descent converge much more quickly.\n",
    "\n",
    "\n",
    "Feature Scaling can be performed with following steps.\n",
    "1. Subtract the mean value of each feature from the dataset.\n",
    "1. After subtracting the mean, additionally scale (divide) the feature values by their respective “standard deviations.”"
   ]
  },
  {
   "cell_type": "code",
   "execution_count": 17,
   "id": "4af16516-8dd1-4234-8774-a2a52b98b83e",
   "metadata": {},
   "outputs": [
    {
     "data": {
      "text/html": [
       "<div>\n",
       "<style scoped>\n",
       "    .dataframe tbody tr th:only-of-type {\n",
       "        vertical-align: middle;\n",
       "    }\n",
       "\n",
       "    .dataframe tbody tr th {\n",
       "        vertical-align: top;\n",
       "    }\n",
       "\n",
       "    .dataframe thead th {\n",
       "        text-align: right;\n",
       "    }\n",
       "</style>\n",
       "<table border=\"1\" class=\"dataframe\">\n",
       "  <thead>\n",
       "    <tr style=\"text-align: right;\">\n",
       "      <th></th>\n",
       "      <th>0</th>\n",
       "      <th>1</th>\n",
       "    </tr>\n",
       "  </thead>\n",
       "  <tbody>\n",
       "    <tr>\n",
       "      <th>0</th>\n",
       "      <td>2104</td>\n",
       "      <td>3</td>\n",
       "    </tr>\n",
       "    <tr>\n",
       "      <th>1</th>\n",
       "      <td>1600</td>\n",
       "      <td>3</td>\n",
       "    </tr>\n",
       "    <tr>\n",
       "      <th>2</th>\n",
       "      <td>2400</td>\n",
       "      <td>3</td>\n",
       "    </tr>\n",
       "    <tr>\n",
       "      <th>3</th>\n",
       "      <td>1416</td>\n",
       "      <td>2</td>\n",
       "    </tr>\n",
       "    <tr>\n",
       "      <th>4</th>\n",
       "      <td>3000</td>\n",
       "      <td>4</td>\n",
       "    </tr>\n",
       "  </tbody>\n",
       "</table>\n",
       "</div>"
      ],
      "text/plain": [
       "      0  1\n",
       "0  2104  3\n",
       "1  1600  3\n",
       "2  2400  3\n",
       "3  1416  2\n",
       "4  3000  4"
      ]
     },
     "execution_count": 17,
     "metadata": {},
     "output_type": "execute_result"
    }
   ],
   "source": [
    "X.head(5)"
   ]
  },
  {
   "cell_type": "code",
   "execution_count": 18,
   "id": "c12f32e0-ba0d-4d48-b31d-45f6ebd45b1c",
   "metadata": {},
   "outputs": [
    {
     "name": "stderr",
     "output_type": "stream",
     "text": [
      "/Users/saifahmed/Downloads/LAB01_Regression/xenv/lib/python3.12/site-packages/numpy/_core/fromnumeric.py:4109: FutureWarning: The behavior of DataFrame.std with axis=None is deprecated, in a future version this will reduce over both axes and return a scalar. To retain the old behavior, pass axis=0 (or do not pass axis)\n",
      "  return std(axis=axis, dtype=dtype, out=out, ddof=ddof, **kwargs)\n"
     ]
    }
   ],
   "source": [
    "X_iv = (X - np.mean(X))/np.std(X)\n"
   ]
  },
  {
   "cell_type": "code",
   "execution_count": 19,
   "id": "01ad3390-8a72-4ffc-909d-5433680e291a",
   "metadata": {},
   "outputs": [
    {
     "data": {
      "text/html": [
       "<div>\n",
       "<style scoped>\n",
       "    .dataframe tbody tr th:only-of-type {\n",
       "        vertical-align: middle;\n",
       "    }\n",
       "\n",
       "    .dataframe tbody tr th {\n",
       "        vertical-align: top;\n",
       "    }\n",
       "\n",
       "    .dataframe thead th {\n",
       "        text-align: right;\n",
       "    }\n",
       "</style>\n",
       "<table border=\"1\" class=\"dataframe\">\n",
       "  <thead>\n",
       "    <tr style=\"text-align: right;\">\n",
       "      <th></th>\n",
       "      <th>0</th>\n",
       "      <th>1</th>\n",
       "    </tr>\n",
       "  </thead>\n",
       "  <tbody>\n",
       "    <tr>\n",
       "      <th>0</th>\n",
       "      <td>1.401769</td>\n",
       "      <td>-1326.871320</td>\n",
       "    </tr>\n",
       "    <tr>\n",
       "      <th>1</th>\n",
       "      <td>0.760713</td>\n",
       "      <td>-1326.871320</td>\n",
       "    </tr>\n",
       "    <tr>\n",
       "      <th>2</th>\n",
       "      <td>1.778262</td>\n",
       "      <td>-1326.871320</td>\n",
       "    </tr>\n",
       "    <tr>\n",
       "      <th>3</th>\n",
       "      <td>0.526677</td>\n",
       "      <td>-1328.199619</td>\n",
       "    </tr>\n",
       "    <tr>\n",
       "      <th>4</th>\n",
       "      <td>2.541424</td>\n",
       "      <td>-1325.543022</td>\n",
       "    </tr>\n",
       "  </tbody>\n",
       "</table>\n",
       "</div>"
      ],
      "text/plain": [
       "          0            1\n",
       "0  1.401769 -1326.871320\n",
       "1  0.760713 -1326.871320\n",
       "2  1.778262 -1326.871320\n",
       "3  0.526677 -1328.199619\n",
       "4  2.541424 -1325.543022"
      ]
     },
     "execution_count": 19,
     "metadata": {},
     "output_type": "execute_result"
    }
   ],
   "source": [
    "X_iv.head(5)"
   ]
  },
  {
   "cell_type": "markdown",
   "id": "39efa6d1-99d4-46c6-9565-ca179cada154",
   "metadata": {},
   "source": [
    "### Apply the Z-Score Scaling the features. And use following Z-Score Scaling foru\n",
    "![scaling](res/scaling.png \"MSE\")"
   ]
  },
  {
   "cell_type": "code",
   "execution_count": 20,
   "id": "20e541e2-6807-4328-b1e7-06cd94a39757",
   "metadata": {},
   "outputs": [
    {
     "name": "stdout",
     "output_type": "stream",
     "text": [
      "Normalized X:\n",
      "            0            1\n",
      "0   1.401769 -1326.871320\n",
      "1   0.760713 -1326.871320\n",
      "2   1.778262 -1326.871320\n",
      "3   0.526677 -1328.199619\n",
      "4   2.541424 -1325.543022\n",
      "5   1.250409 -1325.543022\n",
      "6   0.676765 -1326.871320\n",
      "7   0.540668 -1326.871320\n",
      "8   0.480887 -1326.871320\n",
      "9   0.625888 -1326.871320\n",
      "10  1.193171 -1325.543022\n",
      "11  1.269488 -1326.871320\n",
      "12  1.129575 -1326.871320\n",
      "13  4.421347 -1324.214723\n",
      "14  0.338430 -1326.871320\n",
      "15  1.651069 -1325.543022\n",
      "16  0.404571 -1328.199619\n",
      "17  0.297728 -1326.871320\n",
      "18  2.044097 -1325.543022\n",
      "19  2.580854 -1325.543022\n",
      "20  0.973126 -1326.871320\n",
      "21  1.127031 -1328.199619\n",
      "22  0.765801 -1326.871320\n",
      "23  1.221154 -1325.543022\n",
      "24  3.673448 -1326.871320\n",
      "25  0.124745 -1326.871320\n",
      "26  0.580098 -1326.871320\n",
      "27  1.938526 -1326.871320\n",
      "28  1.523875 -1326.871320\n",
      "29  2.079711 -1326.871320\n",
      "30  1.064706 -1328.199619\n",
      "31 -0.002449 -1329.527917\n",
      "32  1.320365 -1325.543022\n",
      "33  2.715680 -1326.871320\n",
      "34  1.029092 -1325.543022\n",
      "35  0.553387 -1326.871320\n",
      "36  0.301544 -1326.871320\n",
      "37  1.437383 -1325.543022\n",
      "38  4.086827 -1325.543022\n",
      "39  1.475541 -1325.543022\n",
      "40  0.842117 -1328.199619\n",
      "41  1.572209 -1326.871320\n",
      "42  1.990676 -1325.543022\n",
      "43  0.251938 -1326.871320\n",
      "44 -0.190696 -1328.199619\n",
      "45  1.081241 -1325.543022\n",
      "46  0.255754 -1326.871320\n"
     ]
    },
    {
     "name": "stderr",
     "output_type": "stream",
     "text": [
      "/Users/saifahmed/Downloads/LAB01_Regression/xenv/lib/python3.12/site-packages/numpy/_core/fromnumeric.py:4109: FutureWarning: The behavior of DataFrame.std with axis=None is deprecated, in a future version this will reduce over both axes and return a scalar. To retain the old behavior, pass axis=0 (or do not pass axis)\n",
      "  return std(axis=axis, dtype=dtype, out=out, ddof=ddof, **kwargs)\n"
     ]
    }
   ],
   "source": [
    "### WRITE CODE HERE ###\n",
    "# Feature scaling for each column independently\n",
    "def featureNormalize(X):\n",
    "    X_scaled = (X - np.mean(X))/np.std(X)\n",
    "    return X_scaled\n",
    "\n",
    "# print(\"Scaled X:\\n\", X_scaled)\n",
    "\n",
    "X = featureNormalize(X)\n",
    "\n",
    "print(\"Normalized X:\\n\", X)\n",
    "\n",
    "# Expected Output is provided for refernce.\n"
   ]
  },
  {
   "cell_type": "code",
   "execution_count": 111,
   "id": "94a77a91-1a3f-43ae-8baf-eacb21aa19a5",
   "metadata": {},
   "outputs": [
    {
     "data": {
      "text/plain": [
       "array([[ 1.00000000e+00,  1.31415422e-01, -2.26093368e-01],\n",
       "       [ 1.00000000e+00, -5.09640698e-01, -2.26093368e-01],\n",
       "       [ 1.00000000e+00,  5.07908699e-01, -2.26093368e-01],\n",
       "       [ 1.00000000e+00, -7.43677059e-01, -1.55439190e+00],\n",
       "       [ 1.00000000e+00,  1.27107075e+00,  1.10220517e+00],\n",
       "       [ 1.00000000e+00, -1.99450507e-02,  1.10220517e+00],\n",
       "       [ 1.00000000e+00, -5.93588523e-01, -2.26093368e-01],\n",
       "       [ 1.00000000e+00, -7.29685755e-01, -2.26093368e-01],\n",
       "       [ 1.00000000e+00, -7.89466782e-01, -2.26093368e-01],\n",
       "       [ 1.00000000e+00, -6.44465993e-01, -2.26093368e-01],\n",
       "       [ 1.00000000e+00, -7.71822042e-02,  1.10220517e+00],\n",
       "       [ 1.00000000e+00, -8.65999486e-04, -2.26093368e-01],\n",
       "       [ 1.00000000e+00, -1.40779041e-01, -2.26093368e-01],\n",
       "       [ 1.00000000e+00,  3.15099326e+00,  2.43050370e+00],\n",
       "       [ 1.00000000e+00, -9.31923697e-01, -2.26093368e-01],\n",
       "       [ 1.00000000e+00,  3.80715024e-01,  1.10220517e+00],\n",
       "       [ 1.00000000e+00, -8.65782986e-01, -1.55439190e+00],\n",
       "       [ 1.00000000e+00, -9.72625673e-01, -2.26093368e-01],\n",
       "       [ 1.00000000e+00,  7.73743478e-01,  1.10220517e+00],\n",
       "       [ 1.00000000e+00,  1.31050078e+00,  1.10220517e+00],\n",
       "       [ 1.00000000e+00, -2.97227261e-01, -2.26093368e-01],\n",
       "       [ 1.00000000e+00, -1.43322915e-01, -1.55439190e+00],\n",
       "       [ 1.00000000e+00, -5.04552951e-01, -2.26093368e-01],\n",
       "       [ 1.00000000e+00, -4.91995958e-02,  1.10220517e+00],\n",
       "       [ 1.00000000e+00,  2.40309445e+00, -2.26093368e-01],\n",
       "       [ 1.00000000e+00, -1.14560907e+00, -2.26093368e-01],\n",
       "       [ 1.00000000e+00, -6.90255715e-01, -2.26093368e-01],\n",
       "       [ 1.00000000e+00,  6.68172729e-01, -2.26093368e-01],\n",
       "       [ 1.00000000e+00,  2.53521350e-01, -2.26093368e-01],\n",
       "       [ 1.00000000e+00,  8.09357707e-01, -2.26093368e-01],\n",
       "       [ 1.00000000e+00, -2.05647815e-01, -1.55439190e+00],\n",
       "       [ 1.00000000e+00, -1.27280274e+00, -2.88269044e+00],\n",
       "       [ 1.00000000e+00,  5.00114703e-02,  1.10220517e+00],\n",
       "       [ 1.00000000e+00,  1.44532608e+00, -2.26093368e-01],\n",
       "       [ 1.00000000e+00, -2.41262044e-01,  1.10220517e+00],\n",
       "       [ 1.00000000e+00, -7.16966387e-01, -2.26093368e-01],\n",
       "       [ 1.00000000e+00, -9.68809863e-01, -2.26093368e-01],\n",
       "       [ 1.00000000e+00,  1.67029651e-01,  1.10220517e+00],\n",
       "       [ 1.00000000e+00,  2.81647389e+00,  1.10220517e+00],\n",
       "       [ 1.00000000e+00,  2.05187753e-01,  1.10220517e+00],\n",
       "       [ 1.00000000e+00, -4.28236746e-01, -1.55439190e+00],\n",
       "       [ 1.00000000e+00,  3.01854946e-01, -2.26093368e-01],\n",
       "       [ 1.00000000e+00,  7.20322135e-01,  1.10220517e+00],\n",
       "       [ 1.00000000e+00, -1.01841540e+00, -2.26093368e-01],\n",
       "       [ 1.00000000e+00, -1.46104938e+00, -1.55439190e+00],\n",
       "       [ 1.00000000e+00, -1.89112638e-01,  1.10220517e+00],\n",
       "       [ 1.00000000e+00, -1.01459959e+00, -2.26093368e-01]])"
      ]
     },
     "execution_count": 111,
     "metadata": {},
     "output_type": "execute_result"
    }
   ],
   "source": [
    "### WRITE CODE HERE ###\n",
    "# In above features add a column of ones in dataset for intercept term.\n",
    "def addOnes(X):\n",
    "    ones = np.ones((X.shape[0],1))\n",
    "    X = np.concatenate((ones,X),axis = 1)\n",
    "    return X\n",
    "\n",
    "X = addOnes(X)\n",
    "print(X)\n",
    "\n"
   ]
  },
  {
   "cell_type": "code",
   "execution_count": 28,
   "id": "7c6a4a60-f61d-4258-8083-d15c77331adf",
   "metadata": {},
   "outputs": [],
   "source": [
    "# Hyperparamters. Don't change there for submission\n",
    "alpha = 0.01\n",
    "num_iters = 400\n",
    "y = np.array(y)\n",
    "y = y[:,np.newaxis]\n"
   ]
  },
  {
   "cell_type": "code",
   "execution_count": 29,
   "id": "77de2110-25c2-431c-b05f-1f60064d919e",
   "metadata": {},
   "outputs": [
    {
     "name": "stdout",
     "output_type": "stream",
     "text": [
      "[[0.]\n",
      " [0.]\n",
      " [0.]]\n"
     ]
    }
   ],
   "source": [
    "## WRITE CODE HERE ##\n",
    "# Initialize Thetas to ZERO for above dataset.\n",
    "\n",
    "theta = np.zeros((3,1))\n",
    "print(theta)\n"
   ]
  },
  {
   "cell_type": "code",
   "execution_count": 37,
   "id": "60af9d3c-fb84-40d8-9121-48e078632de7",
   "metadata": {},
   "outputs": [
    {
     "ename": "ValueError",
     "evalue": "Number of columns in X should match the number of rows in theta",
     "output_type": "error",
     "traceback": [
      "\u001b[0;31m---------------------------------------------------------------------------\u001b[0m",
      "\u001b[0;31mValueError\u001b[0m                                Traceback (most recent call last)",
      "Cell \u001b[0;32mIn[37], line 13\u001b[0m\n\u001b[1;32m     10\u001b[0m     \u001b[38;5;28;01mreturn\u001b[39;00m J\n\u001b[1;32m     12\u001b[0m \u001b[38;5;66;03m# Compute the cost\u001b[39;00m\n\u001b[0;32m---> 13\u001b[0m J \u001b[38;5;241m=\u001b[39m \u001b[43mcomputeCostMulti\u001b[49m\u001b[43m(\u001b[49m\u001b[43mX\u001b[49m\u001b[43m,\u001b[49m\u001b[43m \u001b[49m\u001b[43my\u001b[49m\u001b[43m,\u001b[49m\u001b[43m \u001b[49m\u001b[43mtheta\u001b[49m\u001b[43m)\u001b[49m\n\u001b[1;32m     14\u001b[0m \u001b[38;5;28mprint\u001b[39m(J)\n\u001b[1;32m     16\u001b[0m \u001b[38;5;66;03m# Expected Output.\u001b[39;00m\n",
      "Cell \u001b[0;32mIn[37], line 5\u001b[0m, in \u001b[0;36mcomputeCostMulti\u001b[0;34m(X, y, theta)\u001b[0m\n\u001b[1;32m      3\u001b[0m \u001b[38;5;28;01mdef\u001b[39;00m \u001b[38;5;21mcomputeCostMulti\u001b[39m(X, y, theta):\n\u001b[1;32m      4\u001b[0m     \u001b[38;5;28;01mif\u001b[39;00m X\u001b[38;5;241m.\u001b[39mshape[\u001b[38;5;241m1\u001b[39m] \u001b[38;5;241m!=\u001b[39m theta\u001b[38;5;241m.\u001b[39mshape[\u001b[38;5;241m0\u001b[39m]:\n\u001b[0;32m----> 5\u001b[0m         \u001b[38;5;28;01mraise\u001b[39;00m \u001b[38;5;167;01mValueError\u001b[39;00m(\u001b[38;5;124m\"\u001b[39m\u001b[38;5;124mNumber of columns in X should match the number of rows in theta\u001b[39m\u001b[38;5;124m\"\u001b[39m)\n\u001b[1;32m      6\u001b[0m     m \u001b[38;5;241m=\u001b[39m \u001b[38;5;28mlen\u001b[39m(y)\n\u001b[1;32m      7\u001b[0m     predictions \u001b[38;5;241m=\u001b[39m np\u001b[38;5;241m.\u001b[39mdot(X,theta)\n",
      "\u001b[0;31mValueError\u001b[0m: Number of columns in X should match the number of rows in theta"
     ]
    }
   ],
   "source": [
    "## WRITE CODE HERE ###\n",
    "# Complete cost function for more than one input features.\n",
    "def computeCostMulti(X, y, theta):\n",
    "    if X.shape[1] != theta.shape[0]:\n",
    "        raise ValueError(\"Number of columns in X should match the number of rows in theta\")\n",
    "    m = len(y)\n",
    "    predictions = np.dot(X,theta)\n",
    "    square_err = (predictions - y)**2\n",
    "    J = 1/(2*m) * np.sum(square_err)\n",
    "    return J\n",
    "\n",
    "# Compute the cost\n",
    "J = computeCostMulti(X, y, theta)\n",
    "print(J)\n",
    "\n",
    "# Expected Output."
   ]
  },
  {
   "cell_type": "code",
   "execution_count": 33,
   "id": "73759e29-a531-42a8-9618-2b53e0dc9089",
   "metadata": {},
   "outputs": [
    {
     "ename": "ValueError",
     "evalue": "shapes (47,2) and (3,1) not aligned: 2 (dim 1) != 3 (dim 0)",
     "output_type": "error",
     "traceback": [
      "\u001b[0;31m---------------------------------------------------------------------------\u001b[0m",
      "\u001b[0;31mValueError\u001b[0m                                Traceback (most recent call last)",
      "Cell \u001b[0;32mIn[33], line 11\u001b[0m\n\u001b[1;32m      7\u001b[0m         theta \u001b[38;5;241m=\u001b[39m theta \u001b[38;5;241m-\u001b[39m (alpha\u001b[38;5;241m/\u001b[39mm)\u001b[38;5;241m*\u001b[39mtemp\n\u001b[1;32m      8\u001b[0m     \u001b[38;5;28;01mreturn\u001b[39;00m theta\n\u001b[0;32m---> 11\u001b[0m theta \u001b[38;5;241m=\u001b[39m \u001b[43mgradientDescentMulti\u001b[49m\u001b[43m(\u001b[49m\u001b[43mX\u001b[49m\u001b[43m,\u001b[49m\u001b[43m \u001b[49m\u001b[43my\u001b[49m\u001b[43m,\u001b[49m\u001b[43m \u001b[49m\u001b[43mtheta\u001b[49m\u001b[43m,\u001b[49m\u001b[43m \u001b[49m\u001b[43malpha\u001b[49m\u001b[43m,\u001b[49m\u001b[43m \u001b[49m\u001b[43mnum_iters\u001b[49m\u001b[43m)\u001b[49m\n\u001b[1;32m     12\u001b[0m \u001b[38;5;28mprint\u001b[39m(theta)\n",
      "Cell \u001b[0;32mIn[33], line 5\u001b[0m, in \u001b[0;36mgradientDescentMulti\u001b[0;34m(X, y, theta, alpha, iterations)\u001b[0m\n\u001b[1;32m      3\u001b[0m m \u001b[38;5;241m=\u001b[39m \u001b[38;5;28mlen\u001b[39m(y) \u001b[38;5;66;03m# length of dataset (No of Samples)\u001b[39;00m\n\u001b[1;32m      4\u001b[0m \u001b[38;5;28;01mfor\u001b[39;00m _ \u001b[38;5;129;01min\u001b[39;00m \u001b[38;5;28mrange\u001b[39m(iterations):\n\u001b[0;32m----> 5\u001b[0m     temp \u001b[38;5;241m=\u001b[39m \u001b[43mnp\u001b[49m\u001b[38;5;241;43m.\u001b[39;49m\u001b[43mdot\u001b[49m\u001b[43m(\u001b[49m\u001b[43mX\u001b[49m\u001b[43m,\u001b[49m\u001b[43mtheta\u001b[49m\u001b[43m)\u001b[49m\u001b[38;5;241m-\u001b[39my\n\u001b[1;32m      6\u001b[0m     temp \u001b[38;5;241m=\u001b[39m np\u001b[38;5;241m.\u001b[39mdot(X\u001b[38;5;241m.\u001b[39mT,temp)\n\u001b[1;32m      7\u001b[0m     theta \u001b[38;5;241m=\u001b[39m theta \u001b[38;5;241m-\u001b[39m (alpha\u001b[38;5;241m/\u001b[39mm)\u001b[38;5;241m*\u001b[39mtemp\n",
      "\u001b[0;31mValueError\u001b[0m: shapes (47,2) and (3,1) not aligned: 2 (dim 1) != 3 (dim 0)"
     ]
    }
   ],
   "source": [
    "# Complete the Gradient Descent and use the equations used in previous exercise.\n",
    "def gradientDescentMulti(X, y, theta, alpha, iterations):\n",
    "    m = len(y) # length of dataset (No of Samples)\n",
    "    for _ in range(iterations):\n",
    "        temp = np.dot(X,theta)-y\n",
    "        temp = np.dot(X.T,temp)\n",
    "        theta = theta - (alpha/m)*temp\n",
    "    return theta\n",
    "\n",
    "\n",
    "theta = gradientDescentMulti(X, y, theta, alpha, num_iters)\n",
    "print(theta)"
   ]
  },
  {
   "cell_type": "code",
   "execution_count": 25,
   "id": "7e16f551-36c4-4c95-83b0-80b4adcbb955",
   "metadata": {},
   "outputs": [
    {
     "ename": "NameError",
     "evalue": "name 'gradientDescentMulti' is not defined",
     "output_type": "error",
     "traceback": [
      "\u001b[0;31m---------------------------------------------------------------------------\u001b[0m",
      "\u001b[0;31mNameError\u001b[0m                                 Traceback (most recent call last)",
      "Cell \u001b[0;32mIn[25], line 2\u001b[0m\n\u001b[1;32m      1\u001b[0m \u001b[38;5;66;03m# A new nornalization to calculate thetas\u001b[39;00m\n\u001b[0;32m----> 2\u001b[0m theta \u001b[38;5;241m=\u001b[39m \u001b[43mgradientDescentMulti\u001b[49m(X_scaled1, y, theta, alpha, iterations)\n\u001b[1;32m      3\u001b[0m \u001b[38;5;28mprint\u001b[39m(theta)\n",
      "\u001b[0;31mNameError\u001b[0m: name 'gradientDescentMulti' is not defined"
     ]
    }
   ],
   "source": [
    "# A new nornalization to calculate thetas\n",
    "theta = gradientDescentMulti(X_scaled1, y, theta, alpha, iterations)\n",
    "print(theta)"
   ]
  },
  {
   "cell_type": "code",
   "execution_count": 27,
   "id": "5b7bcbb8-febd-4411-bcd5-2634d1cea11a",
   "metadata": {},
   "outputs": [
    {
     "ename": "NameError",
     "evalue": "name 'X_scaled1' is not defined",
     "output_type": "error",
     "traceback": [
      "\u001b[0;31m---------------------------------------------------------------------------\u001b[0m",
      "\u001b[0;31mNameError\u001b[0m                                 Traceback (most recent call last)",
      "Cell \u001b[0;32mIn[27], line 1\u001b[0m\n\u001b[0;32m----> 1\u001b[0m J \u001b[38;5;241m=\u001b[39m computeCostMulti(\u001b[43mX_scaled1\u001b[49m, y, theta)\n\u001b[1;32m      2\u001b[0m \u001b[38;5;28mprint\u001b[39m(J)\n",
      "\u001b[0;31mNameError\u001b[0m: name 'X_scaled1' is not defined"
     ]
    }
   ],
   "source": [
    "J = computeCostMulti(X_scaled1, y, theta)\n",
    "print(J)"
   ]
  },
  {
   "cell_type": "code",
   "execution_count": null,
   "id": "f49a2567-4cf6-449c-92da-908ea63de450",
   "metadata": {},
   "outputs": [],
   "source": []
  }
 ],
 "metadata": {
  "kernelspec": {
   "display_name": "Python 3 (ipykernel)",
   "language": "python",
   "name": "python3"
  },
  "language_info": {
   "codemirror_mode": {
    "name": "ipython",
    "version": 3
   },
   "file_extension": ".py",
   "mimetype": "text/x-python",
   "name": "python",
   "nbconvert_exporter": "python",
   "pygments_lexer": "ipython3",
   "version": "3.12.5"
  }
 },
 "nbformat": 4,
 "nbformat_minor": 5
}
